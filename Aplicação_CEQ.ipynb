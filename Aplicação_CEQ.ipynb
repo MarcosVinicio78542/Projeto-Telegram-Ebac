{
  "nbformat": 4,
  "nbformat_minor": 0,
  "metadata": {
    "colab": {
      "provenance": []
    },
    "kernelspec": {
      "name": "python3",
      "display_name": "Python 3"
    },
    "language_info": {
      "name": "python"
    }
  },
  "cells": [
    {
      "cell_type": "markdown",
      "source": [
        "Aplicação dos Gráficos de Controle Estatístico de Qualidade no ambiente do Google Colab."
      ],
      "metadata": {
        "id": "ouOUtvB1B0P8"
      }
    },
    {
      "cell_type": "code",
      "execution_count": null,
      "metadata": {
        "id": "zWXVqFY1BzBD"
      },
      "outputs": [],
      "source": [
        "import numpy as np\n",
        "import matplotlib.pyplot as plt\n",
        "import pandas as pd\n",
        "\n",
        "\n",
        "# Caminho do arquivo\n",
        "caminho_arquivo = '/content/Dados_amostras.csv'\n",
        "\n",
        "# Lê o arquivo CSV usando pandas, com a primeira linha como título (header)\n",
        "df = pd.read_csv(caminho_arquivo, encoding='utf-8', header=0)\n",
        "\n",
        "\n",
        "# Parâmetros fornecidos\n",
        "n = 5  # Tamanho da amostra\n",
        "xbarra = 500  # Média amostral alvo (substituindo mi por xbarra)\n",
        "d2 = 2.326  # Tabela valor d2 para n = 5\n",
        "d3 = 0.864  # Tabela valor d3 para n = 5\n",
        "\n",
        "\n",
        "# Número de amostras (quantidade de pontos no gráfico)\n",
        "num_amostras = df.shape[0]\n",
        "\n",
        "# Calculando a média e amplitude amostral de cada amostra\n",
        "media_amostral = df.mean(axis=1)\n",
        "amplitude_amostral = df.max(axis=1) - df.min(axis=1)\n",
        "\n",
        "# amplitude estimada\n",
        "Rbarra = amplitude_amostral.mean()\n",
        "\n",
        "# desvio estimado\n",
        "sigma0 = Rbarra / d2\n",
        "\n",
        "# Calculando os limites de controle para a amplitude amostral\n",
        "LCA_superior = Rbarra  + 3 * d3* sigma0\n",
        "LCA_inferior =  Rbarra  - 3 * d3 * sigma0\n",
        "\n",
        "# Verificando se o limite inferior da amplitude amostral é negativo\n",
        "if LCA_inferior < 0:\n",
        "    LCA_inferior = None  # Se for negativo, não exibimos o limite inferior\n",
        "\n",
        "# Calculando os limites de controle para a média amostral\n",
        "LCS_superior = xbarra + 3 * (sigma0) / np.sqrt(n)\n",
        "LCS_inferior = xbarra - 3 * (sigma0) / np.sqrt(n)\n",
        "\n",
        "# Identificando pontos fora dos limites de controle para a média amostral\n",
        "pontos_fora_media = (media_amostral > LCS_superior) | (media_amostral < LCS_inferior)\n",
        "\n",
        "# Identificando pontos fora dos limites de controle para a amplitude amostral\n",
        "pontos_fora_amplitude = (amplitude_amostral > LCA_superior) | (amplitude_amostral < LCA_inferior if LCA_inferior is not None else False)\n",
        "\n",
        "# Gerando o gráfico de controle\n",
        "fig, (ax1, ax2) = plt.subplots(2, 1, figsize=(10, 10))\n",
        "\n",
        "# Gráfico da média amostral\n",
        "ax1.plot(media_amostral, label='Média amostral', marker='o', color='b')\n",
        "ax1.plot(np.where(pontos_fora_media)[0], media_amostral[pontos_fora_media], 'ro', label='Pontos Fora dos Limites')\n",
        "ax1.axhline(y=xbarra, color='green', linestyle='--', label=r'$\\bar{x}$ alvo = 500')\n",
        "ax1.axhline(y=LCS_superior, color='red', linestyle='--', label='Limite Superior de Controle')\n",
        "ax1.axhline(y=LCS_inferior, color='red', linestyle='--', label='Limite Inferior de Controle')\n",
        "ax1.set_title(r'Gráfico de Controle da Média Amostral $\\bar{x}$')\n",
        "ax1.set_xlabel('Amostra')\n",
        "ax1.set_ylabel('Valor da Média')\n",
        "ax1.legend()\n",
        "\n",
        "# Gráfico da amplitude amostral\n",
        "ax2.plot(amplitude_amostral, label='Amplitude amostral', marker='o', color='b')\n",
        "ax2.plot(np.where(pontos_fora_amplitude)[0], amplitude_amostral[pontos_fora_amplitude], 'ro', label='Pontos Fora dos Limites')\n",
        "ax2.axhline(y=LCA_superior, color='red', linestyle='--', label='Limite Superior de Controle')\n",
        "if LCA_inferior is not None:  # Se o limite inferior não for negativo, desenha a linha\n",
        "    ax2.axhline(y=LCA_inferior, color='red', linestyle='--', label='Limite Inferior de Controle')\n",
        "\n",
        "# Adicionando uma linha horizontal no gráfico da amplitude amostral (por exemplo, no valor 30)\n",
        "linha_horizontal = amplitude_amostral.mean().round(2)  # Exemplo: Linha horizontal no valor 30\n",
        "ax2.axhline(y=linha_horizontal, color='green', linestyle='--', label=f'Amplitude de Referência: {linha_horizontal}')\n",
        "\n",
        "ax2.set_title(r'Gráfico de Controle da Amplitude Amostral')\n",
        "ax2.set_xlabel('Amostra')\n",
        "ax2.set_ylabel('Amplitude')\n",
        "ax2.set_ylim(bottom=0)  # Ajuste para o gráfico da amplitude começar de 0\n",
        "ax2.legend()\n",
        "\n",
        "plt.tight_layout()\n",
        "plt.show()\n"
      ]
    }
  ]
}