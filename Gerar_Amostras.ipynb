{
  "nbformat": 4,
  "nbformat_minor": 0,
  "metadata": {
    "colab": {
      "provenance": []
    },
    "kernelspec": {
      "name": "python3",
      "display_name": "Python 3"
    },
    "language_info": {
      "name": "python"
    }
  },
  "cells": [
    {
      "cell_type": "markdown",
      "source": [
        "Função Usada na Geração Aleatória das Amostras de Peso dos Pacotes de Café"
      ],
      "metadata": {
        "id": "RCvm2EzQ_u7G"
      }
    },
    {
      "cell_type": "code",
      "execution_count": null,
      "metadata": {
        "id": "b28fXjYj_iMU"
      },
      "outputs": [],
      "source": [
        "import random\n",
        "\n",
        "# OBS: O autor escolheu os limites da distribuição uniforme de maneira superficial,\n",
        "# sem uma referencia mais aprofundada ou justificação adequada, apenas para\n",
        "# aplicar o método.\n",
        "\n",
        "def gerar_pesos_cafe():\n",
        "    # abaixo a cada execucao desta funcao e gerado 5 valores aleatorios\n",
        "    # definidos no intervalo 490 ao 508\n",
        "    pesos = [round(random.uniform(490, 508), 2) for _ in range(5)]\n",
        "    return pesos\n",
        "\n",
        "# Gerando 5 amostras de peso de pacote de cafe\n",
        "pesos_aleatorios = gerar_pesos_cafe()\n",
        "print(f'Pesos de café gerados: {pesos_aleatorios}')"
      ]
    }
  ]
}